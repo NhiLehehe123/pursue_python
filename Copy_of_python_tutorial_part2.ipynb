{
  "cells": [
    {
      "cell_type": "markdown",
      "metadata": {
        "id": "view-in-github",
        "colab_type": "text"
      },
      "source": [
        "<a href=\"https://colab.research.google.com/github/NhiLehehe123/pursue_python/blob/main/Copy_of_python_tutorial_part2.ipynb\" target=\"_parent\"><img src=\"https://colab.research.google.com/assets/colab-badge.svg\" alt=\"Open In Colab\"/></a>"
      ]
    },
    {
      "cell_type": "markdown",
      "metadata": {
        "id": "I-vsy2MjgxAS"
      },
      "source": [
        "# Python Tutorial - Part 2\n",
        "\n",
        "### Covered Topics\n",
        "- Classes\n",
        "- Inheritance\n",
        "- Polymorphism\n",
        "\n",
        "Reference: https://www.w3schools.com/python/"
      ]
    },
    {
      "cell_type": "markdown",
      "metadata": {
        "id": "6IGeO7o6gxAU"
      },
      "source": [
        "## Classes\n",
        "\n",
        "So far, we have used a combination of variables, lists, dictionaries, and functions to represent data such as students. We can make our code even more organized by representing students as single *objects*. This is where classes come in.\n",
        "\n",
        "A class is a blueprint for creating objects. Objects have properties (variables) and methods (functions) associated with them. Almost everything in Python is an object, with its properties and methods."
      ]
    },
    {
      "cell_type": "code",
      "execution_count": null,
      "metadata": {
        "id": "2EuuWunJgxAU"
      },
      "outputs": [],
      "source": [
        "# This is how we define a class to represent an animal\n",
        "\n",
        "class Animal:\n",
        "\n",
        "    # This is the constructor\n",
        "    def __init__(self, name, age):\n",
        "        self.name = name\n",
        "        self.age = age\n",
        "\n",
        "    # This is a method\n",
        "    def talk(self):\n",
        "        print(\"Rarrrr\")"
      ]
    },
    {
      "cell_type": "markdown",
      "metadata": {
        "id": "HhM2-3DvgxAU"
      },
      "source": [
        "The Dog class above defines a blueprint for a dog. To create an actual dog, we need to create an object of the Dog class. This is called an instance of the class.\n",
        "\n",
        "Once we have actual dog objects, we can interact with their properties and methods."
      ]
    },
    {
      "cell_type": "code",
      "execution_count": null,
      "metadata": {
        "id": "Z-wrKYsBgxAV",
        "outputId": "b5a64c65-9f5d-4065-f618-b98274f0d02d",
        "colab": {
          "base_uri": "https://localhost:8080/"
        }
      },
      "outputs": [
        {
          "output_type": "stream",
          "name": "stdout",
          "text": [
            "Buddy the dog is 3 years old\n",
            "Max the cat is 4 years old\n",
            "Buddy says:\n",
            "Rarrrr\n",
            "Max says:\n",
            "Rarrrr\n"
          ]
        }
      ],
      "source": [
        "dog = Animal(\"Buddy\", 3)\n",
        "cat = Animal(\"Max\", 4)\n",
        "\n",
        "print(f\"{dog.name} the dog is {dog.age} years old\")\n",
        "print(f\"{cat.name} the cat is {cat.age} years old\")\n",
        "print(f\"{dog.name} says:\")\n",
        "dog.talk()\n",
        "print(f\"{cat.name} says:\")\n",
        "cat.talk()"
      ]
    },
    {
      "cell_type": "markdown",
      "metadata": {
        "id": "YHU1l8cugxAV"
      },
      "source": [
        "We can use the same technique to represent students. Let's create a Student class."
      ]
    },
    {
      "cell_type": "code",
      "execution_count": null,
      "metadata": {
        "id": "uW2oe_xigxAV"
      },
      "outputs": [],
      "source": [
        "# Can you create a class to represent a student?\n",
        "# What methods would this class have?\n"
      ]
    },
    {
      "cell_type": "markdown",
      "metadata": {
        "id": "9faP3YcJgxAV"
      },
      "source": [
        "## Inheritance\n",
        "\n",
        "We can now use the Animal class to create a variety of animals, and the Student class to create a variety of students. But what if we want to be more specific? Take Buddy, for example. Buddy is a dog, but we only know that because we know Buddy. The Animal class isn't specific enough to know that Buddy is a dog and Max is a cat. This is where inheritance comes in.\n",
        "\n",
        "Inheritance allows us to define a class that inherits all the methods and properties from another class. The class that inherits is called the child class, and the class that is inherited from is called the parent class."
      ]
    },
    {
      "cell_type": "code",
      "execution_count": null,
      "metadata": {
        "id": "EEvQeLFkgxAV",
        "outputId": "9e4f533f-4108-4f3e-d429-04498c987832",
        "colab": {
          "base_uri": "https://localhost:8080/"
        }
      },
      "outputs": [
        {
          "output_type": "stream",
          "name": "stdout",
          "text": [
            "Buddy is a dog\n",
            "Max is a cat\n",
            "Buddy says:\n",
            "Rarrrr\n",
            "Max says:\n",
            "Rarrrr\n"
          ]
        }
      ],
      "source": [
        "# Let's create a couple more classes\n",
        "\n",
        "class Dog(Animal):\n",
        "\n",
        "    # Class variable\n",
        "    species = \"dog\"\n",
        "\n",
        "class Cat(Animal):\n",
        "\n",
        "        # Class variable\n",
        "        species = \"cat\"\n",
        "\n",
        "dog = Dog(\"Buddy\", 3)\n",
        "cat = Cat(\"Max\", 4)\n",
        "\n",
        "print(f\"{dog.name} is a {Dog.species}\")\n",
        "print(f\"{cat.name} is a {Cat.species}\")\n",
        "print(f\"{dog.name} says:\")\n",
        "dog.talk()\n",
        "print(f\"{cat.name} says:\")\n",
        "cat.talk()"
      ]
    },
    {
      "cell_type": "markdown",
      "metadata": {
        "id": "fXiXQ2UkgxAV"
      },
      "source": [
        "Did you notice that we didn't have to define the `__init__()` function in the Dog class? That's because the Dog class inherits the `__init__()` function from the Animal class. The same is true for the other methods and properties."
      ]
    },
    {
      "cell_type": "code",
      "execution_count": null,
      "metadata": {
        "id": "UYgDT91sgxAV"
      },
      "outputs": [],
      "source": [
        "# How can we create different types of students?\n"
      ]
    },
    {
      "cell_type": "markdown",
      "metadata": {
        "id": "sUQM1phVgxAV"
      },
      "source": [
        "## Polymorphism\n",
        "\n",
        "We still have a problem with our animals. Isn't it a bit weird that all animals make a sound in the same way? Cats don't bark, and dogs don't meow. This is where polymorphism comes in.\n",
        "\n",
        "A child class can also override the methods and properties of its parent class to make them more specific. This is called polymorphism."
      ]
    },
    {
      "cell_type": "code",
      "execution_count": null,
      "metadata": {
        "id": "9TjEoL1CgxAV",
        "outputId": "c8eaab96-9bd7-4e7c-b559-010ce7ad4497",
        "colab": {
          "base_uri": "https://localhost:8080/"
        }
      },
      "outputs": [
        {
          "output_type": "stream",
          "name": "stdout",
          "text": [
            "Buddy is a dog\n",
            "Max is a cat\n",
            "Buddy says:\n",
            "Woof\n",
            "Max says:\n",
            "Meow\n"
          ]
        }
      ],
      "source": [
        "# Let's redefine the Dog and Cat classes\n",
        "\n",
        "class Dog(Animal):\n",
        "        species = \"dog\"\n",
        "\n",
        "        # Overriding the talk method (polymorphism)\n",
        "        def talk(self):\n",
        "            print(\"Woof\")\n",
        "\n",
        "\n",
        "class Cat(Animal):\n",
        "        species = \"cat\"\n",
        "\n",
        "        # Overriding the talk method (polymorphism)\n",
        "        def talk(self):\n",
        "            print(\"Meow\")\n",
        "\n",
        "\n",
        "dog = Dog(\"Buddy\", 3)\n",
        "cat = Cat(\"Max\", 4)\n",
        "\n",
        "print(f\"{dog.name} is a {Dog.species}\")\n",
        "print(f\"{cat.name} is a {Cat.species}\")\n",
        "print(f\"{dog.name} says:\")\n",
        "dog.talk()\n",
        "print(f\"{cat.name} says:\")\n",
        "cat.talk()"
      ]
    },
    {
      "cell_type": "markdown",
      "metadata": {
        "id": "wVC9269_gxAV"
      },
      "source": [
        "How can we use polymorphism to determine if our students are passing or failing?"
      ]
    },
    {
      "cell_type": "code",
      "execution_count": null,
      "metadata": {
        "id": "xB-DliA2gxAW"
      },
      "outputs": [],
      "source": [
        "# Let's try it here\n"
      ]
    },
    {
      "cell_type": "code",
      "source": [],
      "metadata": {
        "id": "lQiHm3lZ9las"
      },
      "execution_count": null,
      "outputs": []
    }
  ],
  "metadata": {
    "kernelspec": {
      "display_name": "Python 3",
      "language": "python",
      "name": "python3"
    },
    "language_info": {
      "codemirror_mode": {
        "name": "ipython",
        "version": 3
      },
      "file_extension": ".py",
      "mimetype": "text/x-python",
      "name": "python",
      "nbconvert_exporter": "python",
      "pygments_lexer": "ipython3",
      "version": "3.11.9"
    },
    "colab": {
      "provenance": [],
      "include_colab_link": true
    }
  },
  "nbformat": 4,
  "nbformat_minor": 0
}