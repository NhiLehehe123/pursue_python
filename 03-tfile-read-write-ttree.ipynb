{
 "cells": [
  {
   "cell_type": "markdown",
   "metadata": {
    "slideshow": {
     "slide_type": "slide"
    }
   },
   "source": [
    "# The ROOT file"
   ]
  },
  {
   "cell_type": "markdown",
   "metadata": {
    "slideshow": {
     "slide_type": "slide"
    }
   },
   "source": [
    "* With ROOT, objects can be written to files\n",
    "\n",
    "* ROOT provides its own file class, [TFile](https://root.cern/doc/master/classTFile.html), to interact with these files\n",
    "\n",
    "* ROOT files are _binary_ and can be transparently _compressed_ to reduce disk usage\n",
    "\n",
    "* ROOT files have a logical “file-system-like” structure\n",
    "\n",
    "  * E.g. a directory hierarchy"
   ]
  },
  {
   "cell_type": "markdown",
   "metadata": {
    "slideshow": {
     "slide_type": "slide"
    }
   },
   "source": [
    "Let's start with importing ROOT as usual"
   ]
  },
  {
   "cell_type": "code",
   "execution_count": 10,
   "metadata": {
    "slideshow": {
     "slide_type": "fragment"
    }
   },
   "outputs": [],
   "source": [
    "# To-do: import the ROOT module\n",
    "import ROOT"
   ]
  },
  {
   "cell_type": "markdown",
   "metadata": {
    "slideshow": {
     "slide_type": "slide"
    }
   },
   "source": [
    "\n",
    "This is how you create a `TFile`:"
   ]
  },
  {
   "cell_type": "code",
   "execution_count": 11,
   "metadata": {
    "slideshow": {
     "slide_type": "fragment"
    }
   },
   "outputs": [],
   "source": [
    "f = ROOT.TFile(\"my_file.root\", \"RECREATE\")"
   ]
  },
  {
   "cell_type": "markdown",
   "metadata": {
    "slideshow": {
     "slide_type": "fragment"
    }
   },
   "source": [
    "<center><img src=\"images/tfile1.png\"><center>"
   ]
  },
  {
   "cell_type": "markdown",
   "metadata": {
    "slideshow": {
     "slide_type": "fragment"
    }
   },
   "source": [
    "and how you close it (note that when `f` is destroyed, the file is closed automatically):"
   ]
  },
  {
   "cell_type": "code",
   "execution_count": 12,
   "metadata": {
    "slideshow": {
     "slide_type": "fragment"
    }
   },
   "outputs": [],
   "source": [
    "f.Close()"
   ]
  },
  {
   "cell_type": "code",
   "execution_count": 14,
   "metadata": {},
   "outputs": [],
   "source": [
    "# Try it!\n",
    "# To-do: Create a root file named \"try_it.root\" with the option that a new file is created and opened only if it doesn't exist\n",
    "f_try = ROOT.TFile(\"try_it.root\", \"RECREATE\")\n",
    "\n",
    "# To-do: Now close it using the function Close()\n",
    "f_try.Close()"
   ]
  },
  {
   "cell_type": "markdown",
   "metadata": {
    "slideshow": {
     "slide_type": "slide"
    }
   },
   "source": [
    "- The file we've just created is empty, let's actually write something in it this time.\n",
    "\n",
    "- We will write a histogram object in it. \n",
    "\n",
    "- Note how we create the histogram after creating the file, we write the histogram and we finally close the file."
   ]
  },
  {
   "cell_type": "code",
   "execution_count": 15,
   "metadata": {
    "slideshow": {
     "slide_type": "fragment"
    }
   },
   "outputs": [
    {
     "data": {
      "text/plain": [
       "<cppyy.CPPOverload at 0x74faeb107a40>"
      ]
     },
     "execution_count": 15,
     "metadata": {},
     "output_type": "execute_result"
    }
   ],
   "source": [
    "# Example code\n",
    "# Type with me!\n",
    "\n",
    "f = ROOT.TFile(\"my_file.root\", \"RECREATE\")\n",
    "\n",
    "h = ROOT.TH1F(\"my_histo\", \"Example histogram\",100, -4, 4)\n",
    "f.WriteObject(h,h.GetName())\n",
    "\n",
    "f.Close"
   ]
  },
  {
   "cell_type": "code",
   "execution_count": 17,
   "metadata": {},
   "outputs": [],
   "source": [
    "# Try it!\n",
    "# To-do: Open the \"try_it.root\" file that we have created for updating the content\n",
    "f_try = ROOT.TFile(\"try_it.root\", \"UPDATE\")\n",
    "\n",
    "# To-do: Fill it with the histogram that we created in the example but store it with the name \"try_histo\"\n",
    "h1 = ROOT.TH1F(\"try_histo\", \"Example histogram\", 100, -4, 4)\n",
    "f_try.WriteObject(h,\"try_histo\")\n",
    "\n",
    "# To-do: Close the file using the function Close()\n",
    "f_try.Close()"
   ]
  },
  {
   "cell_type": "markdown",
   "metadata": {
    "slideshow": {
     "slide_type": "fragment"
    }
   },
   "source": [
    "\n",
    "The `\"my_histo\"` argument of the `TH1F` constructor is the name of the histogram, and it is also how it will be identified inside the file, we'll see that in a minute."
   ]
  },
  {
   "cell_type": "markdown",
   "metadata": {
    "slideshow": {
     "slide_type": "slide"
    }
   },
   "source": [
    "We should now have a file called `my_file.root` in the current directory. We will check that by using the `%%bash` magic, which allows us to run bash commands from a cell:"
   ]
  },
  {
   "cell_type": "code",
   "execution_count": 18,
   "metadata": {
    "slideshow": {
     "slide_type": "fragment"
    }
   },
   "outputs": [
    {
     "name": "stdout",
     "output_type": "stream",
     "text": [
      "-rw-r--r-- 1 jovyan jovyan 512 Jun  3 16:28 my_file.root\n"
     ]
    }
   ],
   "source": [
    "%%bash\n",
    "ls -l my_file.root"
   ]
  },
  {
   "cell_type": "code",
   "execution_count": 19,
   "metadata": {},
   "outputs": [
    {
     "name": "stdout",
     "output_type": "stream",
     "text": [
      "-rw-r--r-- 1 jovyan jovyan 3800 Jun  3 16:32 try_it.root\n"
     ]
    }
   ],
   "source": [
    "# Try it!\n",
    "# To-do: check if the try_it.root file exists\n",
    "!ls -l try_it.root"
   ]
  },
  {
   "cell_type": "markdown",
   "metadata": {
    "slideshow": {
     "slide_type": "fragment"
    }
   },
   "source": [
    "We can also use the `rootls` command to inspect the contents of the ROOT file. See how the file contains an object called `my_histo` of type `TH1F`."
   ]
  },
  {
   "cell_type": "code",
   "execution_count": 20,
   "metadata": {
    "slideshow": {
     "slide_type": "fragment"
    }
   },
   "outputs": [
    {
     "name": "stdout",
     "output_type": "stream",
     "text": [
      "TH1F  Jun 03 16:28 2025 my_histo;1 \"Example histogram\" \n"
     ]
    }
   ],
   "source": [
    "%%bash\n",
    "rootls -l my_file.root"
   ]
  },
  {
   "cell_type": "code",
   "execution_count": 21,
   "metadata": {},
   "outputs": [
    {
     "name": "stdout",
     "output_type": "stream",
     "text": [
      "\u001b[1mTH1F  \u001b[0mJun 03 16:32 2025 try_histo;1 \"Example histogram\" \n"
     ]
    }
   ],
   "source": [
    "# Try it!\n",
    "# To-do: Check the content of try_it.root. Verify that the histogram is stored under the name \"try_histo\"\n",
    "!rootls -l try_it.root"
   ]
  },
  {
   "cell_type": "markdown",
   "metadata": {
    "slideshow": {
     "slide_type": "slide"
    }
   },
   "source": [
    "Finally, let's see how we can programmatically retrieve the histogram we just wrote in the file. \n",
    "\n",
    "We can access the histogram by its name using `TFile::Get()`."
   ]
  },
  {
   "cell_type": "code",
   "execution_count": 22,
   "metadata": {
    "slideshow": {
     "slide_type": "fragment"
    }
   },
   "outputs": [
    {
     "name": "stdout",
     "output_type": "stream",
     "text": [
      "Name: my_histo Title: Example histogram NbinsX: 100\n"
     ]
    },
    {
     "name": "stderr",
     "output_type": "stream",
     "text": [
      "Warning in <TFile::Init>: file my_file.root probably not closed, trying to recover\n",
      "Info in <TFile::Recover>: my_file.root, recovered key TH1F:my_histo at address 220\n",
      "Warning in <TFile::Init>: successfully recovered 1 keys\n"
     ]
    }
   ],
   "source": [
    "f = ROOT.TFile(\"my_file.root\") # READ is the default mode\n",
    "\n",
    "h = f.Get(\"my_histo\")\n",
    "print(h)"
   ]
  },
  {
   "cell_type": "code",
   "execution_count": 26,
   "metadata": {},
   "outputs": [
    {
     "name": "stdout",
     "output_type": "stream",
     "text": [
      "Name: my_histo Title: Example histogram NbinsX: 100\n"
     ]
    }
   ],
   "source": [
    "# Try it!\n",
    "# To-do: Fetch the histogram from try_it.root with Get()\n",
    "f_try = ROOT.TFile(\"try_it.root\", \"READ\")\n",
    "h_try = f_try.Get(\"try_histo\")\n",
    "\n",
    "print(h_try)"
   ]
  },
  {
   "cell_type": "markdown",
   "metadata": {
    "jp-MarkdownHeadingCollapsed": true,
    "slideshow": {
     "slide_type": "slide"
    }
   },
   "source": [
    "# The HEP dataset\n",
    "\n",
    "High Energy Physics data is made of many statistically independent collision events. \n",
    "\n",
    "Laying data into an \"event class\", then serialise and write out `N` instances of the class into a file would be very inefficient. \n",
    "\n",
    "In ROOT, a dataset is organised columns that can store elements of any C++ type:\n",
    "* fundamental types: `int`, `float`\n",
    "* C++ standard collections: `std::vector`, `std::map`\n",
    "* User created C++ classes\n",
    "\n",
    "The ROOT dataset is represented by the `TTree` class and is often simply called a tree. Columns in the dataset are instances of the `TBranch` class (often referred to as \"branches\")."
   ]
  },
  {
   "cell_type": "markdown",
   "metadata": {
    "slideshow": {
     "slide_type": "subslide"
    }
   },
   "source": [
    "<center><img src=\"images/dataset.png\"></center>"
   ]
  },
  {
   "cell_type": "markdown",
   "metadata": {
    "slideshow": {
     "slide_type": "subslide"
    }
   },
   "source": [
    "- A `TTree` dataset can be written to a `TFile` (just like any other C++ object). \n",
    "\n",
    "- The ROOT format is logically and physically (on disk) a columnar format. \n",
    "\n",
    "- Different columns can be read from disk independently. \n",
    "\n",
    "- This translates into faster IO performance with respect to other dataset formats (HDF5, SQL)."
   ]
  },
  {
   "cell_type": "code",
   "execution_count": null,
   "metadata": {
    "slideshow": {
     "slide_type": "fragment"
    }
   },
   "outputs": [],
   "source": [
    "%%bash\n",
    "rootls -l data/example_file.root"
   ]
  }
 ],
 "metadata": {
  "celltoolbar": "Slideshow",
  "kernelspec": {
   "display_name": "Python 3 (ipykernel)",
   "language": "python",
   "name": "python3"
  },
  "language_info": {
   "codemirror_mode": {
    "name": "ipython",
    "version": 3
   },
   "file_extension": ".py",
   "mimetype": "text/x-python",
   "name": "python",
   "nbconvert_exporter": "python",
   "pygments_lexer": "ipython3",
   "version": "3.10.14"
  }
 },
 "nbformat": 4,
 "nbformat_minor": 4
}
