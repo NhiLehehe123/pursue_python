{
  "nbformat": 4,
  "nbformat_minor": 0,
  "metadata": {
    "colab": {
      "provenance": [],
      "authorship_tag": "ABX9TyPv/okHPUE045b4wk8903ox",
      "include_colab_link": true
    },
    "kernelspec": {
      "name": "python3",
      "display_name": "Python 3"
    },
    "language_info": {
      "name": "python"
    }
  },
  "cells": [
    {
      "cell_type": "markdown",
      "metadata": {
        "id": "view-in-github",
        "colab_type": "text"
      },
      "source": [
        "<a href=\"https://colab.research.google.com/github/NhiLehehe123/pursue_python/blob/main/python_for_HEP.ipynb\" target=\"_parent\"><img src=\"https://colab.research.google.com/assets/colab-badge.svg\" alt=\"Open In Colab\"/></a>"
      ]
    },
    {
      "cell_type": "code",
      "execution_count": 2,
      "metadata": {
        "colab": {
          "base_uri": "https://localhost:8080/",
          "height": 36
        },
        "id": "T7kPBKKnOJyH",
        "outputId": "2f687c03-f109-4ec6-9512-2ba9a82373d4"
      },
      "outputs": [
        {
          "output_type": "execute_result",
          "data": {
            "text/plain": [
              "'are red'"
            ],
            "application/vnd.google.colaboratory.intrinsic+json": {
              "type": "string"
            }
          },
          "metadata": {},
          "execution_count": 2
        }
      ],
      "source": [
        "fruitdict = {\n",
        "    \"apples\": \"are red\",\n",
        "    \"bananas\": 2,\n",
        "    \"pears\": [3,4,5],\n",
        "}\n",
        "\n",
        "fruitdict[\"apples\"]"
      ]
    },
    {
      "cell_type": "code",
      "source": [
        "for fruit in fruitdict:\n",
        "  print(fruit, fruitdict[fruit])"
      ],
      "metadata": {
        "colab": {
          "base_uri": "https://localhost:8080/"
        },
        "id": "UXF4Vp3wOzD5",
        "outputId": "65914720-4b4b-4fc1-ad47-c0dc74b1620f"
      },
      "execution_count": 4,
      "outputs": [
        {
          "output_type": "stream",
          "name": "stdout",
          "text": [
            "apples are red\n",
            "bananas 2\n",
            "pears [3, 4, 5]\n"
          ]
        }
      ]
    },
    {
      "cell_type": "code",
      "source": [
        "lst1 = [1, 2, 3, 4, 5]\n",
        "lst2 = [5, 4, 3, 2, 1]"
      ],
      "metadata": {
        "id": "e2loC4TnPF_e"
      },
      "execution_count": 7,
      "outputs": []
    },
    {
      "cell_type": "code",
      "source": [
        "lst1[0:3] #0 inclusive to 3 inclusive"
      ],
      "metadata": {
        "colab": {
          "base_uri": "https://localhost:8080/"
        },
        "id": "YVZ9GQjlPRRj",
        "outputId": "28af777a-a4b4-46f0-a50d-14d2229da985"
      },
      "execution_count": 12,
      "outputs": [
        {
          "output_type": "execute_result",
          "data": {
            "text/plain": [
              "[1, 2, 3]"
            ]
          },
          "metadata": {},
          "execution_count": 12
        }
      ]
    },
    {
      "cell_type": "code",
      "source": [
        "import numpy as np\n",
        "\n",
        "arr1 = np.array(\n",
        "    lst1\n",
        ")\n",
        "\n",
        "arr2 = np.array(\n",
        "    lst2\n",
        ")"
      ],
      "metadata": {
        "id": "ZhYWK8dbRvLF"
      },
      "execution_count": 16,
      "outputs": []
    },
    {
      "cell_type": "code",
      "source": [
        "%%timeit\n",
        "# Slow way\n",
        "sumrslt = []\n",
        "for i, j in zip(arr1, arr2):\n",
        "    sumrslt.append(i + j)"
      ],
      "metadata": {
        "colab": {
          "base_uri": "https://localhost:8080/"
        },
        "id": "Ty161_0iRuQw",
        "outputId": "e9a0e7c0-89f3-4d35-91cb-1c8f25af939a"
      },
      "execution_count": 17,
      "outputs": [
        {
          "output_type": "stream",
          "name": "stdout",
          "text": [
            "2.25 µs ± 457 ns per loop (mean ± std. dev. of 7 runs, 1000000 loops each)\n"
          ]
        }
      ]
    },
    {
      "cell_type": "code",
      "source": [
        "print(\"Original:\")\n",
        "print(\n",
        "    arr1\n",
        ")\n",
        "filter = [True, False, True, False, True]\n",
        "print(\"Filtered using {}:\".format(filter))\n",
        "print(\n",
        "    arr1[[True, False, True, False, True]]\n",
        ")  # This will print only the elements of arr1 that are assigned the True value"
      ],
      "metadata": {
        "colab": {
          "base_uri": "https://localhost:8080/"
        },
        "id": "cnuBalibUn4Q",
        "outputId": "40c7aa58-3919-4ab0-8d06-d40d652a98df"
      },
      "execution_count": 18,
      "outputs": [
        {
          "output_type": "stream",
          "name": "stdout",
          "text": [
            "Original:\n",
            "[1 2 3 4 5]\n",
            "Filtered using [True, False, True, False, True]:\n",
            "[1 3 5]\n"
          ]
        }
      ]
    },
    {
      "cell_type": "code",
      "source": [
        "sum = arr1 + arr2\n",
        "\n",
        "sum6 = (sum > 6)\n",
        "diff = (arr1 != arr2)\n",
        "result = (sum6 | diff)\n",
        "arr1[result]"
      ],
      "metadata": {
        "colab": {
          "base_uri": "https://localhost:8080/"
        },
        "id": "yvBFJUUUVIlH",
        "outputId": "d66b7c3b-ef8d-46c3-f73a-3599726f138f"
      },
      "execution_count": 32,
      "outputs": [
        {
          "output_type": "execute_result",
          "data": {
            "text/plain": [
              "array([1, 2, 4, 5])"
            ]
          },
          "metadata": {},
          "execution_count": 32
        }
      ]
    },
    {
      "cell_type": "code",
      "source": [
        "filter1 = (arr1+arr2) > 6\n",
        "filter2 = arr1 != arr2\n",
        "arr1[filter1 | filter2]"
      ],
      "metadata": {
        "colab": {
          "base_uri": "https://localhost:8080/"
        },
        "id": "LDqnOjvtVwcB",
        "outputId": "d93cd909-61c1-45c2-f9e7-eb6a16720d45"
      },
      "execution_count": 33,
      "outputs": [
        {
          "output_type": "execute_result",
          "data": {
            "text/plain": [
              "array([1, 2, 4, 5])"
            ]
          },
          "metadata": {},
          "execution_count": 33
        }
      ]
    },
    {
      "cell_type": "code",
      "source": [
        "lst3d = [[[ 0,  1,  2,  3,  4],\n",
        "        [ 5,  6,  7,  8,  9],\n",
        "        [10, 11, 12, 13, 14]],\n",
        "\n",
        "       [[15, 16, 17, 18, 19],\n",
        "        [20, 21, 22, 23, 24],\n",
        "        [25, 26, 27, 28, 29]]]\n",
        "lst3d"
      ],
      "metadata": {
        "colab": {
          "base_uri": "https://localhost:8080/"
        },
        "id": "g3WYvj9mZfiA",
        "outputId": "aaabad76-8c64-4944-d82d-b4a8d7107b3f"
      },
      "execution_count": 35,
      "outputs": [
        {
          "output_type": "execute_result",
          "data": {
            "text/plain": [
              "[[[0, 1, 2, 3, 4], [5, 6, 7, 8, 9], [10, 11, 12, 13, 14]],\n",
              " [[15, 16, 17, 18, 19], [20, 21, 22, 23, 24], [25, 26, 27, 28, 29]]]"
            ]
          },
          "metadata": {},
          "execution_count": 35
        }
      ]
    },
    {
      "cell_type": "code",
      "source": [
        "lst3d[0][1]"
      ],
      "metadata": {
        "colab": {
          "base_uri": "https://localhost:8080/"
        },
        "id": "f3Pjmux1ZhAG",
        "outputId": "462ac909-0c58-4917-8ee0-f31dcf677cca"
      },
      "execution_count": 38,
      "outputs": [
        {
          "output_type": "execute_result",
          "data": {
            "text/plain": [
              "[5, 6, 7, 8, 9]"
            ]
          },
          "metadata": {},
          "execution_count": 38
        }
      ]
    },
    {
      "cell_type": "code",
      "source": [
        "num_elems = 2 * 3 * 5\n",
        "arr1d = np.arange(num_elems)\n",
        "arr3d = arr1d.reshape(2, 3, 5)\n",
        "arr3d"
      ],
      "metadata": {
        "colab": {
          "base_uri": "https://localhost:8080/"
        },
        "id": "akgsUy9zaELb",
        "outputId": "1124f5f5-3bad-43d2-fcf5-e91a1a7f9a5a"
      },
      "execution_count": 39,
      "outputs": [
        {
          "output_type": "execute_result",
          "data": {
            "text/plain": [
              "array([[[ 0,  1,  2,  3,  4],\n",
              "        [ 5,  6,  7,  8,  9],\n",
              "        [10, 11, 12, 13, 14]],\n",
              "\n",
              "       [[15, 16, 17, 18, 19],\n",
              "        [20, 21, 22, 23, 24],\n",
              "        [25, 26, 27, 28, 29]]])"
            ]
          },
          "metadata": {},
          "execution_count": 39
        }
      ]
    },
    {
      "cell_type": "code",
      "source": [
        "arr3d[:,1:,1:]"
      ],
      "metadata": {
        "colab": {
          "base_uri": "https://localhost:8080/"
        },
        "id": "gmAP2LqiaM1k",
        "outputId": "fdcae429-5f8c-46bb-d945-9662e276ada0"
      },
      "execution_count": 46,
      "outputs": [
        {
          "output_type": "execute_result",
          "data": {
            "text/plain": [
              "array([[[ 6,  7,  8,  9],\n",
              "        [11, 12, 13, 14]],\n",
              "\n",
              "       [[21, 22, 23, 24],\n",
              "        [26, 27, 28, 29]]])"
            ]
          },
          "metadata": {},
          "execution_count": 46
        }
      ]
    },
    {
      "cell_type": "code",
      "source": [
        "arr3d[0,:,2:]"
      ],
      "metadata": {
        "colab": {
          "base_uri": "https://localhost:8080/"
        },
        "id": "FfMrn60Ga99K",
        "outputId": "891c8183-207a-4eb6-997b-d1866149fb27"
      },
      "execution_count": 47,
      "outputs": [
        {
          "output_type": "execute_result",
          "data": {
            "text/plain": [
              "array([[ 2,  3,  4],\n",
              "       [ 7,  8,  9],\n",
              "       [12, 13, 14]])"
            ]
          },
          "metadata": {},
          "execution_count": 47
        }
      ]
    },
    {
      "cell_type": "code",
      "source": [
        "filter3 = (arr3d == 1) | (arr3d == 7) | (arr3d == 13)\n",
        "arr3d[filter3]"
      ],
      "metadata": {
        "colab": {
          "base_uri": "https://localhost:8080/"
        },
        "id": "8w_8QMdtb51h",
        "outputId": "b61e3067-6a56-491e-dd31-dfac24075ee6"
      },
      "execution_count": 52,
      "outputs": [
        {
          "output_type": "execute_result",
          "data": {
            "text/plain": [
              "array([ 1,  7, 13])"
            ]
          },
          "metadata": {},
          "execution_count": 52
        }
      ]
    },
    {
      "cell_type": "code",
      "source": [
        "# This will produce an error! Read the error message careful and try to understand it.\n",
        "#np.array([\n",
        " #   [1, 2, 3],\n",
        "  #  [1],\n",
        "   # [5, 7, 8, 100]\n",
        "#])"
      ],
      "metadata": {
        "colab": {
          "base_uri": "https://localhost:8080/",
          "height": 273
        },
        "id": "WeiIPYBhddju",
        "outputId": "771abdda-19b6-48fa-b617-bc9852196b12"
      },
      "execution_count": 53,
      "outputs": [
        {
          "output_type": "error",
          "ename": "ValueError",
          "evalue": "setting an array element with a sequence. The requested array has an inhomogeneous shape after 1 dimensions. The detected shape was (3,) + inhomogeneous part.",
          "traceback": [
            "\u001b[0;31m---------------------------------------------------------------------------\u001b[0m",
            "\u001b[0;31mValueError\u001b[0m                                Traceback (most recent call last)",
            "\u001b[0;32m<ipython-input-53-2f546f6c2276>\u001b[0m in \u001b[0;36m<cell line: 0>\u001b[0;34m()\u001b[0m\n\u001b[1;32m      1\u001b[0m \u001b[0;31m# This will produce an error! Read the error message careful and try to understand it.\u001b[0m\u001b[0;34m\u001b[0m\u001b[0;34m\u001b[0m\u001b[0m\n\u001b[0;32m----> 2\u001b[0;31m np.array([\n\u001b[0m\u001b[1;32m      3\u001b[0m     \u001b[0;34m[\u001b[0m\u001b[0;36m1\u001b[0m\u001b[0;34m,\u001b[0m \u001b[0;36m2\u001b[0m\u001b[0;34m,\u001b[0m \u001b[0;36m3\u001b[0m\u001b[0;34m]\u001b[0m\u001b[0;34m,\u001b[0m\u001b[0;34m\u001b[0m\u001b[0;34m\u001b[0m\u001b[0m\n\u001b[1;32m      4\u001b[0m     \u001b[0;34m[\u001b[0m\u001b[0;36m1\u001b[0m\u001b[0;34m]\u001b[0m\u001b[0;34m,\u001b[0m\u001b[0;34m\u001b[0m\u001b[0;34m\u001b[0m\u001b[0m\n\u001b[1;32m      5\u001b[0m     \u001b[0;34m[\u001b[0m\u001b[0;36m5\u001b[0m\u001b[0;34m,\u001b[0m \u001b[0;36m7\u001b[0m\u001b[0;34m,\u001b[0m \u001b[0;36m8\u001b[0m\u001b[0;34m,\u001b[0m \u001b[0;36m100\u001b[0m\u001b[0;34m]\u001b[0m\u001b[0;34m\u001b[0m\u001b[0;34m\u001b[0m\u001b[0m\n",
            "\u001b[0;31mValueError\u001b[0m: setting an array element with a sequence. The requested array has an inhomogeneous shape after 1 dimensions. The detected shape was (3,) + inhomogeneous part."
          ]
        }
      ]
    },
    {
      "cell_type": "markdown",
      "source": [
        "# Uproot I/O"
      ],
      "metadata": {
        "id": "9epjULSOe0N-"
      }
    },
    {
      "cell_type": "code",
      "source": [
        "!pip3 install scikit-hep-testdata"
      ],
      "metadata": {
        "colab": {
          "base_uri": "https://localhost:8080/"
        },
        "id": "ErVKERRke9hL",
        "outputId": "65d355f0-48ee-4e34-a109-2f160406f24e"
      },
      "execution_count": 63,
      "outputs": [
        {
          "output_type": "stream",
          "name": "stdout",
          "text": [
            "Collecting scikit-hep-testdata\n",
            "  Downloading scikit_hep_testdata-0.5.4-py3-none-any.whl.metadata (13 kB)\n",
            "Requirement already satisfied: pyyaml in /usr/local/lib/python3.11/dist-packages (from scikit-hep-testdata) (6.0.2)\n",
            "Requirement already satisfied: requests in /usr/local/lib/python3.11/dist-packages (from scikit-hep-testdata) (2.32.3)\n",
            "Requirement already satisfied: charset-normalizer<4,>=2 in /usr/local/lib/python3.11/dist-packages (from requests->scikit-hep-testdata) (3.4.2)\n",
            "Requirement already satisfied: idna<4,>=2.5 in /usr/local/lib/python3.11/dist-packages (from requests->scikit-hep-testdata) (3.10)\n",
            "Requirement already satisfied: urllib3<3,>=1.21.1 in /usr/local/lib/python3.11/dist-packages (from requests->scikit-hep-testdata) (2.4.0)\n",
            "Requirement already satisfied: certifi>=2017.4.17 in /usr/local/lib/python3.11/dist-packages (from requests->scikit-hep-testdata) (2025.4.26)\n",
            "Downloading scikit_hep_testdata-0.5.4-py3-none-any.whl (12 kB)\n",
            "Installing collected packages: scikit-hep-testdata\n",
            "Successfully installed scikit-hep-testdata-0.5.4\n"
          ]
        }
      ]
    },
    {
      "cell_type": "code",
      "source": [
        "# Run this cell to import Uproot\n",
        "import uproot\n",
        "import skhep_testdata\n",
        "\n",
        "# Downloads test file and returns path to it\n",
        "filename = skhep_testdata.data_path(\"uproot-Event.root\")\n",
        "file = uproot.open(filename)\n",
        "file"
      ],
      "metadata": {
        "colab": {
          "base_uri": "https://localhost:8080/"
        },
        "id": "Lti8kVFXdqOR",
        "outputId": "f614982a-03e3-401f-a777-db501b86ad54"
      },
      "execution_count": 64,
      "outputs": [
        {
          "output_type": "execute_result",
          "data": {
            "text/plain": [
              "<ReadOnlyDirectory '/' at 0x7eabf0785b90>"
            ]
          },
          "metadata": {},
          "execution_count": 64
        }
      ]
    },
    {
      "cell_type": "code",
      "source": [
        "file.items()"
      ],
      "metadata": {
        "colab": {
          "base_uri": "https://localhost:8080/"
        },
        "id": "jDzAEmZkf_VL",
        "outputId": "ce893f64-f32d-415f-f0e6-897777a3aefb"
      },
      "execution_count": 65,
      "outputs": [
        {
          "output_type": "execute_result",
          "data": {
            "text/plain": [
              "[('ProcessID0;1', <TProcessID (version 1) at 0x7eabf0ecad10>),\n",
              " ('htime;1', <TH1F (version 2) at 0x7eabefd67490>),\n",
              " ('T;1', <TTree 'T' (1 branches) at 0x7eabefd678d0>),\n",
              " ('hstat;1', <TH1F (version 2) at 0x7eabefc73690>)]"
            ]
          },
          "metadata": {},
          "execution_count": 65
        }
      ]
    },
    {
      "cell_type": "code",
      "source": [
        "h = file [\"hstat\"]\n",
        "h"
      ],
      "metadata": {
        "colab": {
          "base_uri": "https://localhost:8080/"
        },
        "id": "IJPJZEsSgdC2",
        "outputId": "ba09725a-4076-4091-c5f2-93b26f076c22"
      },
      "execution_count": 66,
      "outputs": [
        {
          "output_type": "execute_result",
          "data": {
            "text/plain": [
              "<TH1F (version 2) at 0x7eabefc73690>"
            ]
          },
          "metadata": {},
          "execution_count": 66
        }
      ]
    }
  ]
}